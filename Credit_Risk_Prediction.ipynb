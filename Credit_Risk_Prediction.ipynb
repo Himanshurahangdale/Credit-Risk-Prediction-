{
  "nbformat": 4,
  "nbformat_minor": 5,
  "metadata": {
    "colab": {
      "name": "Credit_Risk_Prediction.ipynb",
      "provenance": []
    },
    "kernelspec": {
      "display_name": "Python 3",
      "language": "python",
      "name": "python3"
    },
    "language_info": {
      "codemirror_mode": {
        "name": "ipython",
        "version": 3
      },
      "file_extension": ".py",
      "mimetype": "text/x-python",
      "name": "python",
      "nbconvert_exporter": "python",
      "pygments_lexer": "ipython3",
      "version": "3.7.1"
    }
  },
  "cells": [
    {
      "cell_type": "code",
      "metadata": {
        "id": "yellow-floating",
        "scrolled": true
      },
      "source": [
        "import numpy as np\n",
        "import pandas as pd\n",
        "import matplotlib.pyplot as plt\n",
        "import seaborn as sns\n",
        "%matplotlib inline"
      ],
      "id": "yellow-floating",
      "execution_count": null,
      "outputs": []
    },
    {
      "cell_type": "code",
      "metadata": {
        "id": "superior-record",
        "scrolled": true
      },
      "source": [
        "training_data = pd.read_csv(\"Training Data.csv\")"
      ],
      "id": "superior-record",
      "execution_count": null,
      "outputs": []
    },
    {
      "cell_type": "code",
      "metadata": {
        "id": "retained-stroke",
        "scrolled": true
      },
      "source": [
        "df = pd.DataFrame(training_data)"
      ],
      "id": "retained-stroke",
      "execution_count": null,
      "outputs": []
    },
    {
      "cell_type": "code",
      "metadata": {
        "colab": {
          "base_uri": "https://localhost:8080/",
          "height": 206
        },
        "id": "coordinate-indonesian",
        "scrolled": true,
        "outputId": "ee7ca633-c633-4412-bf53-6f3e2e32c223"
      },
      "source": [
        "df.head()"
      ],
      "id": "coordinate-indonesian",
      "execution_count": null,
      "outputs": [
        {
          "output_type": "execute_result",
          "data": {
            "text/html": [
              "<div>\n",
              "<style scoped>\n",
              "    .dataframe tbody tr th:only-of-type {\n",
              "        vertical-align: middle;\n",
              "    }\n",
              "\n",
              "    .dataframe tbody tr th {\n",
              "        vertical-align: top;\n",
              "    }\n",
              "\n",
              "    .dataframe thead th {\n",
              "        text-align: right;\n",
              "    }\n",
              "</style>\n",
              "<table border=\"1\" class=\"dataframe\">\n",
              "  <thead>\n",
              "    <tr style=\"text-align: right;\">\n",
              "      <th></th>\n",
              "      <th>Id</th>\n",
              "      <th>income</th>\n",
              "      <th>age</th>\n",
              "      <th>experience</th>\n",
              "      <th>married</th>\n",
              "      <th>house_ownership</th>\n",
              "      <th>car_ownership</th>\n",
              "      <th>profession</th>\n",
              "      <th>city</th>\n",
              "      <th>state</th>\n",
              "      <th>current_job_years</th>\n",
              "      <th>current_house_years</th>\n",
              "      <th>risk_flag</th>\n",
              "    </tr>\n",
              "  </thead>\n",
              "  <tbody>\n",
              "    <tr>\n",
              "      <th>0</th>\n",
              "      <td>1</td>\n",
              "      <td>1303835</td>\n",
              "      <td>23</td>\n",
              "      <td>3</td>\n",
              "      <td>single</td>\n",
              "      <td>rented</td>\n",
              "      <td>no</td>\n",
              "      <td>Mechanical_engineer</td>\n",
              "      <td>Rewa</td>\n",
              "      <td>Madhya_Pradesh</td>\n",
              "      <td>3</td>\n",
              "      <td>13</td>\n",
              "      <td>0</td>\n",
              "    </tr>\n",
              "    <tr>\n",
              "      <th>1</th>\n",
              "      <td>2</td>\n",
              "      <td>7574516</td>\n",
              "      <td>40</td>\n",
              "      <td>10</td>\n",
              "      <td>single</td>\n",
              "      <td>rented</td>\n",
              "      <td>no</td>\n",
              "      <td>Software_Developer</td>\n",
              "      <td>Parbhani</td>\n",
              "      <td>Maharashtra</td>\n",
              "      <td>9</td>\n",
              "      <td>13</td>\n",
              "      <td>0</td>\n",
              "    </tr>\n",
              "    <tr>\n",
              "      <th>2</th>\n",
              "      <td>3</td>\n",
              "      <td>3991815</td>\n",
              "      <td>66</td>\n",
              "      <td>4</td>\n",
              "      <td>married</td>\n",
              "      <td>rented</td>\n",
              "      <td>no</td>\n",
              "      <td>Technical_writer</td>\n",
              "      <td>Alappuzha</td>\n",
              "      <td>Kerala</td>\n",
              "      <td>4</td>\n",
              "      <td>10</td>\n",
              "      <td>0</td>\n",
              "    </tr>\n",
              "    <tr>\n",
              "      <th>3</th>\n",
              "      <td>4</td>\n",
              "      <td>6256451</td>\n",
              "      <td>41</td>\n",
              "      <td>2</td>\n",
              "      <td>single</td>\n",
              "      <td>rented</td>\n",
              "      <td>yes</td>\n",
              "      <td>Software_Developer</td>\n",
              "      <td>Bhubaneswar</td>\n",
              "      <td>Odisha</td>\n",
              "      <td>2</td>\n",
              "      <td>12</td>\n",
              "      <td>1</td>\n",
              "    </tr>\n",
              "    <tr>\n",
              "      <th>4</th>\n",
              "      <td>5</td>\n",
              "      <td>5768871</td>\n",
              "      <td>47</td>\n",
              "      <td>11</td>\n",
              "      <td>single</td>\n",
              "      <td>rented</td>\n",
              "      <td>no</td>\n",
              "      <td>Civil_servant</td>\n",
              "      <td>Tiruchirappalli[10]</td>\n",
              "      <td>Tamil_Nadu</td>\n",
              "      <td>3</td>\n",
              "      <td>14</td>\n",
              "      <td>1</td>\n",
              "    </tr>\n",
              "  </tbody>\n",
              "</table>\n",
              "</div>"
            ],
            "text/plain": [
              "   Id   income  age  ...  current_job_years current_house_years risk_flag\n",
              "0   1  1303835   23  ...                  3                  13         0\n",
              "1   2  7574516   40  ...                  9                  13         0\n",
              "2   3  3991815   66  ...                  4                  10         0\n",
              "3   4  6256451   41  ...                  2                  12         1\n",
              "4   5  5768871   47  ...                  3                  14         1\n",
              "\n",
              "[5 rows x 13 columns]"
            ]
          },
          "metadata": {
            "tags": []
          },
          "execution_count": 4
        }
      ]
    },
    {
      "cell_type": "code",
      "metadata": {
        "id": "stopped-secondary",
        "scrolled": true,
        "outputId": "b62b903a-e2b2-4b22-cefc-8436f31e627b"
      },
      "source": [
        "df.info()"
      ],
      "id": "stopped-secondary",
      "execution_count": null,
      "outputs": [
        {
          "output_type": "stream",
          "text": [
            "<class 'pandas.core.frame.DataFrame'>\n",
            "RangeIndex: 252000 entries, 0 to 251999\n",
            "Data columns (total 13 columns):\n",
            " #   Column               Non-Null Count   Dtype \n",
            "---  ------               --------------   ----- \n",
            " 0   Id                   252000 non-null  int64 \n",
            " 1   income               252000 non-null  int64 \n",
            " 2   age                  252000 non-null  int64 \n",
            " 3   experience           252000 non-null  int64 \n",
            " 4   married              252000 non-null  object\n",
            " 5   house_ownership      252000 non-null  object\n",
            " 6   car_ownership        252000 non-null  object\n",
            " 7   profession           252000 non-null  object\n",
            " 8   city                 252000 non-null  object\n",
            " 9   state                252000 non-null  object\n",
            " 10  current_job_years    252000 non-null  int64 \n",
            " 11  current_house_years  252000 non-null  int64 \n",
            " 12  risk_flag            252000 non-null  int64 \n",
            "dtypes: int64(7), object(6)\n",
            "memory usage: 25.0+ MB\n"
          ],
          "name": "stdout"
        }
      ]
    },
    {
      "cell_type": "code",
      "metadata": {
        "colab": {
          "base_uri": "https://localhost:8080/"
        },
        "id": "honest-chosen",
        "scrolled": true,
        "outputId": "e22b5406-7278-459d-e71b-635055239255"
      },
      "source": [
        "df['city'].nunique(), df['profession'].nunique()"
      ],
      "id": "honest-chosen",
      "execution_count": null,
      "outputs": [
        {
          "output_type": "execute_result",
          "data": {
            "text/plain": [
              "(317, 51)"
            ]
          },
          "metadata": {
            "tags": []
          },
          "execution_count": 5
        }
      ]
    },
    {
      "cell_type": "code",
      "metadata": {
        "colab": {
          "base_uri": "https://localhost:8080/"
        },
        "id": "imported-regard",
        "scrolled": true,
        "outputId": "0a3473d4-9705-4589-ae76-2cf44ff59e5b"
      },
      "source": [
        "df.columns"
      ],
      "id": "imported-regard",
      "execution_count": null,
      "outputs": [
        {
          "output_type": "execute_result",
          "data": {
            "text/plain": [
              "Index(['Id', 'income', 'age', 'experience', 'married', 'house_ownership',\n",
              "       'car_ownership', 'profession', 'city', 'state', 'current_job_years',\n",
              "       'current_house_years', 'risk_flag'],\n",
              "      dtype='object')"
            ]
          },
          "metadata": {
            "tags": []
          },
          "execution_count": 6
        }
      ]
    },
    {
      "cell_type": "code",
      "metadata": {
        "id": "spiritual-supervision",
        "scrolled": true
      },
      "source": [
        "X_train = df[['income', 'age', 'experience', 'married', 'house_ownership',\n",
        "       'car_ownership', 'profession', 'city', 'state', 'current_job_years',\n",
        "       'current_house_years']]\n",
        "y_train = df['risk_flag']"
      ],
      "id": "spiritual-supervision",
      "execution_count": null,
      "outputs": []
    },
    {
      "cell_type": "code",
      "metadata": {
        "id": "previous-quality",
        "scrolled": true
      },
      "source": [
        "from sklearn.compose import ColumnTransformer\n",
        "from sklearn.preprocessing import OneHotEncoder, StandardScaler\n",
        "\n",
        "cat_feat = ['married', 'house_ownership',\n",
        "       'car_ownership', 'profession', 'city', 'state']\n",
        "num_feat = ['income', 'age', 'experience','current_job_years',\n",
        "       'current_house_years']\n",
        "\n",
        "full_pipeline = ColumnTransformer([\n",
        "    (\"num\", StandardScaler(), num_feat),\n",
        "    (\"cat\", OneHotEncoder(), cat_feat)\n",
        "])\n",
        "X_train_prepared = full_pipeline.fit_transform(X_train)"
      ],
      "id": "previous-quality",
      "execution_count": null,
      "outputs": []
    },
    {
      "cell_type": "code",
      "metadata": {
        "colab": {
          "base_uri": "https://localhost:8080/"
        },
        "id": "behind-professional",
        "scrolled": true,
        "outputId": "eb8a6176-8cbc-436f-f1ed-b74b13dd20c5"
      },
      "source": [
        "X_train_prepared.shape"
      ],
      "id": "behind-professional",
      "execution_count": null,
      "outputs": [
        {
          "output_type": "execute_result",
          "data": {
            "text/plain": [
              "(252000, 409)"
            ]
          },
          "metadata": {
            "tags": []
          },
          "execution_count": 9
        }
      ]
    },
    {
      "cell_type": "code",
      "metadata": {
        "id": "outstanding-addition",
        "scrolled": true,
        "outputId": "dd2f21ed-eae5-4d79-d295-d252dd55f4e0"
      },
      "source": [
        "from sklearn.decomposition import TruncatedSVD\n",
        "pca = TruncatedSVD(n_components=200, random_state=42)\n",
        "X_train_transformed = pca.fit_transform(X_train_prepared)\n",
        "X_train_transformed.shape"
      ],
      "id": "outstanding-addition",
      "execution_count": null,
      "outputs": [
        {
          "output_type": "execute_result",
          "data": {
            "text/plain": [
              "(252000, 200)"
            ]
          },
          "metadata": {
            "tags": []
          },
          "execution_count": 11
        }
      ]
    },
    {
      "cell_type": "code",
      "metadata": {
        "id": "moved-secondary",
        "scrolled": true,
        "outputId": "92bb0120-cdbb-4d1b-a899-6b94eefe1bb8"
      },
      "source": [
        "np.cumsum(pca.explained_variance_ratio_)[-1]"
      ],
      "id": "moved-secondary",
      "execution_count": null,
      "outputs": [
        {
          "output_type": "execute_result",
          "data": {
            "text/plain": [
              "0.942765818148678"
            ]
          },
          "metadata": {
            "tags": []
          },
          "execution_count": 12
        }
      ]
    },
    {
      "cell_type": "markdown",
      "metadata": {
        "id": "muslim-recruitment"
      },
      "source": [
        "### Basic Classifiers"
      ],
      "id": "muslim-recruitment"
    },
    {
      "cell_type": "code",
      "metadata": {
        "id": "useful-pencil",
        "scrolled": true,
        "outputId": "c1b1e57c-7b77-43e1-8c22-535b55951826"
      },
      "source": [
        "from sklearn.linear_model import SGDClassifier\n",
        "from sklearn.model_selection import cross_val_predict\n",
        "\n",
        "sgd_clf = SGDClassifier(class_weight='balanced')\n",
        "y_pred = cross_val_predict(sgd_clf, X_train_prepared, y_train, verbose=2, cv=3, n_jobs=-1)\n",
        "y_scores = cross_val_predict(sgd_clf, X_train_prepared, y_train, verbose=2, cv=3, n_jobs=-1, method='decision_function')"
      ],
      "id": "useful-pencil",
      "execution_count": null,
      "outputs": [
        {
          "output_type": "stream",
          "text": [
            "[Parallel(n_jobs=-1)]: Using backend LokyBackend with 8 concurrent workers.\n",
            "[Parallel(n_jobs=-1)]: Done   3 out of   3 | elapsed:   12.5s finished\n",
            "[Parallel(n_jobs=-1)]: Using backend LokyBackend with 8 concurrent workers.\n",
            "[Parallel(n_jobs=-1)]: Done   3 out of   3 | elapsed:    9.1s finished\n"
          ],
          "name": "stderr"
        }
      ]
    },
    {
      "cell_type": "code",
      "metadata": {
        "id": "executed-halifax",
        "scrolled": true,
        "outputId": "eda4a6eb-0d78-46aa-83d3-7590b2231871"
      },
      "source": [
        "from sklearn.metrics import classification_report, roc_auc_score\n",
        "print(roc_auc_score(y_train, y_scores))\n",
        "print(classification_report(y_train, y_pred))"
      ],
      "id": "executed-halifax",
      "execution_count": null,
      "outputs": [
        {
          "output_type": "stream",
          "text": [
            "0.6080852487984894\n",
            "              precision    recall  f1-score   support\n",
            "\n",
            "           0       0.91      0.55      0.69    221004\n",
            "           1       0.16      0.61      0.25     30996\n",
            "\n",
            "    accuracy                           0.56    252000\n",
            "   macro avg       0.54      0.58      0.47    252000\n",
            "weighted avg       0.82      0.56      0.64    252000\n",
            "\n"
          ],
          "name": "stdout"
        }
      ]
    },
    {
      "cell_type": "code",
      "metadata": {
        "id": "previous-federal",
        "scrolled": true,
        "outputId": "0e1cea15-e22f-4d9f-9a63-b23efe1fe713"
      },
      "source": [
        "from sklearn.svm import LinearSVC\n",
        "svm_clf = LinearSVC(class_weight='balanced')\n",
        "y_pred = cross_val_predict(svm_clf, X_train_prepared, y_train, verbose=2, cv=3, n_jobs=-1)\n",
        "y_scores = cross_val_predict(svm_clf, X_train_prepared, y_train, verbose=2, cv=3, n_jobs=-1, method='decision_function')\n",
        "print(roc_auc_score(y_train, y_scores))\n",
        "print(classification_report(y_train, y_pred))"
      ],
      "id": "previous-federal",
      "execution_count": null,
      "outputs": [
        {
          "output_type": "stream",
          "text": [
            "[Parallel(n_jobs=-1)]: Using backend LokyBackend with 8 concurrent workers.\n",
            "[Parallel(n_jobs=-1)]: Done   3 out of   3 | elapsed:  1.7min finished\n",
            "[Parallel(n_jobs=-1)]: Using backend LokyBackend with 8 concurrent workers.\n",
            "[Parallel(n_jobs=-1)]: Done   3 out of   3 | elapsed:  1.7min finished\n"
          ],
          "name": "stderr"
        },
        {
          "output_type": "stream",
          "text": [
            "0.6173081802793671\n",
            "              precision    recall  f1-score   support\n",
            "\n",
            "           0       0.91      0.57      0.70    221004\n",
            "           1       0.16      0.60      0.26     30996\n",
            "\n",
            "    accuracy                           0.58    252000\n",
            "   macro avg       0.54      0.59      0.48    252000\n",
            "weighted avg       0.82      0.58      0.65    252000\n",
            "\n"
          ],
          "name": "stdout"
        }
      ]
    },
    {
      "cell_type": "code",
      "metadata": {
        "id": "linear-discharge",
        "scrolled": true
      },
      "source": [
        "from sklearn.tree import DecisionTreeClassifier\n",
        "tree_clf = DecisionTreeClassifier(class_weight='balanced')\n",
        "y_pred = cross_val_predict(tree_clf, X_train_prepared, y_train, verbose=2, cv=3, n_jobs=-1)\n",
        "#y_scores = cross_val_predict(tree_clf, X_train_prepared, y_train, verbose=2, cv=3, n_jobs=-1, method='decision_function')\n",
        "#print(roc_auc_score(y_train, y_scores))"
      ],
      "id": "linear-discharge",
      "execution_count": null,
      "outputs": []
    },
    {
      "cell_type": "code",
      "metadata": {
        "id": "focused-subscription",
        "scrolled": true,
        "outputId": "17af4ddc-4ca8-444d-a7b6-1f4ac61d8832"
      },
      "source": [
        "print(classification_report(y_train, y_pred))"
      ],
      "id": "focused-subscription",
      "execution_count": null,
      "outputs": [
        {
          "output_type": "stream",
          "text": [
            "              precision    recall  f1-score   support\n",
            "\n",
            "           0       0.97      0.88      0.92    221004\n",
            "           1       0.49      0.83      0.62     30996\n",
            "\n",
            "    accuracy                           0.87    252000\n",
            "   macro avg       0.73      0.85      0.77    252000\n",
            "weighted avg       0.91      0.87      0.89    252000\n",
            "\n"
          ],
          "name": "stdout"
        }
      ]
    },
    {
      "cell_type": "markdown",
      "metadata": {
        "id": "indoor-surgeon"
      },
      "source": [
        "## XGBoost"
      ],
      "id": "indoor-surgeon"
    },
    {
      "cell_type": "code",
      "metadata": {
        "colab": {
          "base_uri": "https://localhost:8080/"
        },
        "id": "sharp-weekend",
        "scrolled": true,
        "outputId": "6009aca0-74e8-4d0c-bd8c-916722738134"
      },
      "source": [
        "from xgboost import XGBClassifier\n",
        "from sklearn.model_selection import cross_val_predict\n",
        "\n",
        "xgb_clf = XGBClassifier(max_depth=2, min_child_weight=1, eval_metric='auc')\n",
        "y_pred = cross_val_predict(xgb_clf, X_train_prepared, y_train, verbose=2, cv=3, n_jobs=-1)"
      ],
      "id": "sharp-weekend",
      "execution_count": null,
      "outputs": [
        {
          "output_type": "stream",
          "text": [
            "[Parallel(n_jobs=-1)]: Using backend LokyBackend with 2 concurrent workers.\n",
            "[Parallel(n_jobs=-1)]: Done   3 out of   3 | elapsed:   21.0s finished\n"
          ],
          "name": "stderr"
        }
      ]
    },
    {
      "cell_type": "code",
      "metadata": {
        "id": "creative-punishment",
        "outputId": "3701a121-9226-47d0-d54c-55993d762c4c"
      },
      "source": [
        "param_grid = [{'eta':[ .5, 1, 2], 'max_depth':[9, 12, 15], 'min_child_weight':[6, 10, 15]} \n",
        "             ]\n",
        "from sklearn.model_selection import GridSearchCV\n",
        "grid_search = GridSearchCV(xgb_clf, param_grid, cv=5, verbose=2, scoring='roc_auc', n_jobs=-1)\n",
        "grid_search.fit(X_train_prepared, y_train)"
      ],
      "id": "creative-punishment",
      "execution_count": null,
      "outputs": [
        {
          "output_type": "stream",
          "text": [
            "Fitting 5 folds for each of 27 candidates, totalling 135 fits\n"
          ],
          "name": "stdout"
        },
        {
          "output_type": "stream",
          "text": [
            "[Parallel(n_jobs=-1)]: Using backend LokyBackend with 8 concurrent workers.\n",
            "[Parallel(n_jobs=-1)]: Done  25 tasks      | elapsed:  6.7min\n",
            "[Parallel(n_jobs=-1)]: Done 135 out of 135 | elapsed: 42.2min finished\n",
            "C:\\Users\\Atul PC\\Anaconda3\\lib\\site-packages\\xgboost\\sklearn.py:888: UserWarning: The use of label encoder in XGBClassifier is deprecated and will be removed in a future release. To remove this warning, do the following: 1) Pass option use_label_encoder=False when constructing XGBClassifier object; and 2) Encode your labels (y) as integers starting with 0, i.e. 0, 1, 2, ..., [num_class - 1].\n",
            "  warnings.warn(label_encoder_deprecation_msg, UserWarning)\n"
          ],
          "name": "stderr"
        },
        {
          "output_type": "execute_result",
          "data": {
            "text/plain": [
              "GridSearchCV(cv=5,\n",
              "             estimator=XGBClassifier(base_score=None, booster=None,\n",
              "                                     colsample_bylevel=None,\n",
              "                                     colsample_bynode=None,\n",
              "                                     colsample_bytree=None, eval_metric='auc',\n",
              "                                     gamma=None, gpu_id=None,\n",
              "                                     importance_type='gain',\n",
              "                                     interaction_constraints=None,\n",
              "                                     learning_rate=None, max_delta_step=None,\n",
              "                                     max_depth=2, min_child_weight=1,\n",
              "                                     missing=nan, monotone_constraints=None,\n",
              "                                     n_estimators=100, n_jobs=None,\n",
              "                                     num_parallel_tree=None, random_state=None,\n",
              "                                     reg_alpha=None, reg_lambda=None,\n",
              "                                     scale_pos_weight=None, subsample=None,\n",
              "                                     tree_method=None, validate_parameters=None,\n",
              "                                     verbosity=None),\n",
              "             n_jobs=-1,\n",
              "             param_grid=[{'eta': [0.01, 0.1, 1], 'max_depth': [2, 5, 7],\n",
              "                          'min_child_weight': [1, 3, 6]}],\n",
              "             scoring='roc_auc', verbose=2)"
            ]
          },
          "metadata": {
            "tags": []
          },
          "execution_count": 12
        }
      ]
    },
    {
      "cell_type": "code",
      "metadata": {
        "id": "tender-swing",
        "scrolled": true
      },
      "source": [
        ""
      ],
      "id": "tender-swing",
      "execution_count": null,
      "outputs": []
    },
    {
      "cell_type": "code",
      "metadata": {
        "colab": {
          "background_save": true,
          "base_uri": "https://localhost:8080/"
        },
        "id": "three-council",
        "outputId": "7d2c77be-da01-45f3-cfde-a874cf59b2ef"
      },
      "source": [
        "param_grid = [{'eta':[ .2, .5, 1], 'max_depth':[ 12, 15, 20], 'min_child_weight':[3, 6, 10]} \n",
        "             ]\n",
        "from sklearn.model_selection import GridSearchCV\n",
        "grid_search = GridSearchCV(xgb_clf, param_grid, cv=5, verbose=2, scoring='roc_auc', n_jobs=-1)\n",
        "grid_search.fit(X_train_prepared, y_train)"
      ],
      "id": "three-council",
      "execution_count": null,
      "outputs": [
        {
          "output_type": "stream",
          "text": [
            "Fitting 5 folds for each of 27 candidates, totalling 135 fits\n"
          ],
          "name": "stdout"
        },
        {
          "output_type": "stream",
          "text": [
            "[Parallel(n_jobs=-1)]: Using backend LokyBackend with 2 concurrent workers.\n",
            "[Parallel(n_jobs=-1)]: Done  37 tasks      | elapsed: 23.8min\n",
            "[Parallel(n_jobs=-1)]: Done 135 out of 135 | elapsed: 89.6min finished\n"
          ],
          "name": "stderr"
        },
        {
          "output_type": "execute_result",
          "data": {
            "text/plain": [
              "GridSearchCV(cv=5, error_score=nan,\n",
              "             estimator=XGBClassifier(base_score=0.5, booster='gbtree',\n",
              "                                     colsample_bylevel=1, colsample_bynode=1,\n",
              "                                     colsample_bytree=1, eval_metric='auc',\n",
              "                                     gamma=0, learning_rate=0.1,\n",
              "                                     max_delta_step=0, max_depth=2,\n",
              "                                     min_child_weight=1, missing=None,\n",
              "                                     n_estimators=100, n_jobs=1, nthread=None,\n",
              "                                     objective='binary:logistic',\n",
              "                                     random_state=0, reg_alpha=0, reg_lambda=1,\n",
              "                                     scale_pos_weight=1, seed=None, silent=None,\n",
              "                                     subsample=1, verbosity=1),\n",
              "             iid='deprecated', n_jobs=-1,\n",
              "             param_grid=[{'eta': [0.2, 0.5, 1], 'max_depth': [12, 15, 20],\n",
              "                          'min_child_weight': [3, 6, 10]}],\n",
              "             pre_dispatch='2*n_jobs', refit=True, return_train_score=False,\n",
              "             scoring='roc_auc', verbose=2)"
            ]
          },
          "metadata": {
            "tags": []
          },
          "execution_count": 0
        }
      ]
    },
    {
      "cell_type": "code",
      "metadata": {
        "id": "bright-glossary",
        "scrolled": true,
        "outputId": "553bb4cf-fb6b-4284-980c-c140a87c5a83"
      },
      "source": [
        "grid_search.best_params_"
      ],
      "id": "bright-glossary",
      "execution_count": null,
      "outputs": [
        {
          "output_type": "execute_result",
          "data": {
            "text/plain": [
              "{'eta': 0.5, 'max_depth': 15, 'min_child_weight': 6}"
            ]
          },
          "metadata": {
            "tags": []
          },
          "execution_count": 16
        }
      ]
    },
    {
      "cell_type": "code",
      "metadata": {
        "id": "virtual-promotion",
        "outputId": "c80e0f07-18d7-4ce4-db94-6952621c4baa"
      },
      "source": [
        "from sklearn.metrics import classification_report\n",
        "\n",
        "print(classification_report(y_train, grid_search.predict(X_train_prepared)))\n",
        "from sklearn.metrics import plot_roc_curve\n",
        "\n",
        "xgb_clf.fit(X_train_prepared, y_train)\n",
        "ax = plt.gca()\n",
        "forest_disp = plot_roc_curve(grid_search, X_train_prepared, y_train, ax=ax, alpha=0.8)\n",
        "plt.show()"
      ],
      "id": "virtual-promotion",
      "execution_count": null,
      "outputs": [
        {
          "output_type": "stream",
          "text": [
            "              precision    recall  f1-score   support\n",
            "\n",
            "           0       0.94      0.96      0.95    221004\n",
            "           1       0.65      0.56      0.60     30996\n",
            "\n",
            "    accuracy                           0.91    252000\n",
            "   macro avg       0.79      0.76      0.77    252000\n",
            "weighted avg       0.90      0.91      0.91    252000\n",
            "\n"
          ],
          "name": "stdout"
        },
        {
          "output_type": "display_data",
          "data": {
            "image/png": "[encoded data removed]",
            "text/plain": [
              "<Figure size 432x288 with 1 Axes>"
            ]
          },
          "metadata": {
            "tags": []
          }
        }
      ]
    },
    {
      "cell_type": "markdown",
      "metadata": {
        "id": "powered-aspect"
      },
      "source": [
        "# Predictions"
      ],
      "id": "powered-aspect"
    },
    {
      "cell_type": "code",
      "metadata": {
        "id": "reverse-japan",
        "scrolled": true,
        "outputId": "7a680ce3-953a-4aa6-d867-a41facc7a75e"
      },
      "source": [
        "test_data = pd.read_csv(\"Test Data_underscored.csv\")\n",
        "df_test = pd.DataFrame(test_data)\n",
        "X_test = df_test[['income', 'age', 'experience', 'married', 'house_ownership',\n",
        "       'car_ownership', 'profession', 'city', 'state', 'current_job_years',\n",
        "       'current_house_years']]\n",
        "X_test_prepared = full_pipeline.transform(X_test)\n",
        "X_test_prepared.shape"
      ],
      "id": "reverse-japan",
      "execution_count": null,
      "outputs": [
        {
          "output_type": "execute_result",
          "data": {
            "text/plain": [
              "(28000, 409)"
            ]
          },
          "metadata": {
            "tags": []
          },
          "execution_count": 17
        }
      ]
    },
    {
      "cell_type": "code",
      "metadata": {
        "id": "artistic-planet",
        "scrolled": true
      },
      "source": [
        "y_test_pred = grid_search.predict(X_test_prepared)\n",
        "df_output = pd.DataFrame(index = df_test['id'], columns=['risk_flag'], data=y_test_pred)\n",
        "df_output.to_csv(\"Output.csv\")"
      ],
      "id": "artistic-planet",
      "execution_count": null,
      "outputs": []
    }
  ]
}